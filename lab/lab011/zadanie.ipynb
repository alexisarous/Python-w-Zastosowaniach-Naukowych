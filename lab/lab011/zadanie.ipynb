{
 "cells": [
  {
   "cell_type": "code",
   "execution_count": 11,
   "metadata": {},
   "outputs": [
    {
     "data": {
      "text/html": [
       "\n",
       "    <div class=\"bk-root\">\n",
       "        <a href=\"https://bokeh.org\" target=\"_blank\" class=\"bk-logo bk-logo-small bk-logo-notebook\"></a>\n",
       "        <span id=\"1875\">Loading BokehJS ...</span>\n",
       "    </div>"
      ]
     },
     "metadata": {},
     "output_type": "display_data"
    },
    {
     "data": {
      "application/javascript": "\n(function(root) {\n  function now() {\n    return new Date();\n  }\n\n  const force = true;\n\n  if (typeof root._bokeh_onload_callbacks === \"undefined\" || force === true) {\n    root._bokeh_onload_callbacks = [];\n    root._bokeh_is_loading = undefined;\n  }\n\n  const JS_MIME_TYPE = 'application/javascript';\n  const HTML_MIME_TYPE = 'text/html';\n  const EXEC_MIME_TYPE = 'application/vnd.bokehjs_exec.v0+json';\n  const CLASS_NAME = 'output_bokeh rendered_html';\n\n  /**\n   * Render data to the DOM node\n   */\n  function render(props, node) {\n    const script = document.createElement(\"script\");\n    node.appendChild(script);\n  }\n\n  /**\n   * Handle when an output is cleared or removed\n   */\n  function handleClearOutput(event, handle) {\n    const cell = handle.cell;\n\n    const id = cell.output_area._bokeh_element_id;\n    const server_id = cell.output_area._bokeh_server_id;\n    // Clean up Bokeh references\n    if (id != null && id in Bokeh.index) {\n      Bokeh.index[id].model.document.clear();\n      delete Bokeh.index[id];\n    }\n\n    if (server_id !== undefined) {\n      // Clean up Bokeh references\n      const cmd_clean = \"from bokeh.io.state import curstate; print(curstate().uuid_to_server['\" + server_id + \"'].get_sessions()[0].document.roots[0]._id)\";\n      cell.notebook.kernel.execute(cmd_clean, {\n        iopub: {\n          output: function(msg) {\n            const id = msg.content.text.trim();\n            if (id in Bokeh.index) {\n              Bokeh.index[id].model.document.clear();\n              delete Bokeh.index[id];\n            }\n          }\n        }\n      });\n      // Destroy server and session\n      const cmd_destroy = \"import bokeh.io.notebook as ion; ion.destroy_server('\" + server_id + \"')\";\n      cell.notebook.kernel.execute(cmd_destroy);\n    }\n  }\n\n  /**\n   * Handle when a new output is added\n   */\n  function handleAddOutput(event, handle) {\n    const output_area = handle.output_area;\n    const output = handle.output;\n\n    // limit handleAddOutput to display_data with EXEC_MIME_TYPE content only\n    if ((output.output_type != \"display_data\") || (!Object.prototype.hasOwnProperty.call(output.data, EXEC_MIME_TYPE))) {\n      return\n    }\n\n    const toinsert = output_area.element.find(\".\" + CLASS_NAME.split(' ')[0]);\n\n    if (output.metadata[EXEC_MIME_TYPE][\"id\"] !== undefined) {\n      toinsert[toinsert.length - 1].firstChild.textContent = output.data[JS_MIME_TYPE];\n      // store reference to embed id on output_area\n      output_area._bokeh_element_id = output.metadata[EXEC_MIME_TYPE][\"id\"];\n    }\n    if (output.metadata[EXEC_MIME_TYPE][\"server_id\"] !== undefined) {\n      const bk_div = document.createElement(\"div\");\n      bk_div.innerHTML = output.data[HTML_MIME_TYPE];\n      const script_attrs = bk_div.children[0].attributes;\n      for (let i = 0; i < script_attrs.length; i++) {\n        toinsert[toinsert.length - 1].firstChild.setAttribute(script_attrs[i].name, script_attrs[i].value);\n        toinsert[toinsert.length - 1].firstChild.textContent = bk_div.children[0].textContent\n      }\n      // store reference to server id on output_area\n      output_area._bokeh_server_id = output.metadata[EXEC_MIME_TYPE][\"server_id\"];\n    }\n  }\n\n  function register_renderer(events, OutputArea) {\n\n    function append_mime(data, metadata, element) {\n      // create a DOM node to render to\n      const toinsert = this.create_output_subarea(\n        metadata,\n        CLASS_NAME,\n        EXEC_MIME_TYPE\n      );\n      this.keyboard_manager.register_events(toinsert);\n      // Render to node\n      const props = {data: data, metadata: metadata[EXEC_MIME_TYPE]};\n      render(props, toinsert[toinsert.length - 1]);\n      element.append(toinsert);\n      return toinsert\n    }\n\n    /* Handle when an output is cleared or removed */\n    events.on('clear_output.CodeCell', handleClearOutput);\n    events.on('delete.Cell', handleClearOutput);\n\n    /* Handle when a new output is added */\n    events.on('output_added.OutputArea', handleAddOutput);\n\n    /**\n     * Register the mime type and append_mime function with output_area\n     */\n    OutputArea.prototype.register_mime_type(EXEC_MIME_TYPE, append_mime, {\n      /* Is output safe? */\n      safe: true,\n      /* Index of renderer in `output_area.display_order` */\n      index: 0\n    });\n  }\n\n  // register the mime type if in Jupyter Notebook environment and previously unregistered\n  if (root.Jupyter !== undefined) {\n    const events = require('base/js/events');\n    const OutputArea = require('notebook/js/outputarea').OutputArea;\n\n    if (OutputArea.prototype.mime_types().indexOf(EXEC_MIME_TYPE) == -1) {\n      register_renderer(events, OutputArea);\n    }\n  }\n\n  \n  if (typeof (root._bokeh_timeout) === \"undefined\" || force === true) {\n    root._bokeh_timeout = Date.now() + 5000;\n    root._bokeh_failed_load = false;\n  }\n\n  const NB_LOAD_WARNING = {'data': {'text/html':\n     \"<div style='background-color: #fdd'>\\n\"+\n     \"<p>\\n\"+\n     \"BokehJS does not appear to have successfully loaded. If loading BokehJS from CDN, this \\n\"+\n     \"may be due to a slow or bad network connection. Possible fixes:\\n\"+\n     \"</p>\\n\"+\n     \"<ul>\\n\"+\n     \"<li>re-rerun `output_notebook()` to attempt to load from CDN again, or</li>\\n\"+\n     \"<li>use INLINE resources instead, as so:</li>\\n\"+\n     \"</ul>\\n\"+\n     \"<code>\\n\"+\n     \"from bokeh.resources import INLINE\\n\"+\n     \"output_notebook(resources=INLINE)\\n\"+\n     \"</code>\\n\"+\n     \"</div>\"}};\n\n  function display_loaded() {\n    const el = document.getElementById(\"1875\");\n    if (el != null) {\n      el.textContent = \"BokehJS is loading...\";\n    }\n    if (root.Bokeh !== undefined) {\n      if (el != null) {\n        el.textContent = \"BokehJS \" + root.Bokeh.version + \" successfully loaded.\";\n      }\n    } else if (Date.now() < root._bokeh_timeout) {\n      setTimeout(display_loaded, 100)\n    }\n  }\n\n\n  function run_callbacks() {\n    try {\n      root._bokeh_onload_callbacks.forEach(function(callback) {\n        if (callback != null)\n          callback();\n      });\n    } finally {\n      delete root._bokeh_onload_callbacks\n    }\n    console.debug(\"Bokeh: all callbacks have finished\");\n  }\n\n  function load_libs(css_urls, js_urls, callback) {\n    if (css_urls == null) css_urls = [];\n    if (js_urls == null) js_urls = [];\n\n    root._bokeh_onload_callbacks.push(callback);\n    if (root._bokeh_is_loading > 0) {\n      console.debug(\"Bokeh: BokehJS is being loaded, scheduling callback at\", now());\n      return null;\n    }\n    if (js_urls == null || js_urls.length === 0) {\n      run_callbacks();\n      return null;\n    }\n    console.debug(\"Bokeh: BokehJS not loaded, scheduling load and callback at\", now());\n    root._bokeh_is_loading = css_urls.length + js_urls.length;\n\n    function on_load() {\n      root._bokeh_is_loading--;\n      if (root._bokeh_is_loading === 0) {\n        console.debug(\"Bokeh: all BokehJS libraries/stylesheets loaded\");\n        run_callbacks()\n      }\n    }\n\n    function on_error(url) {\n      console.error(\"failed to load \" + url);\n    }\n\n    for (let i = 0; i < css_urls.length; i++) {\n      const url = css_urls[i];\n      const element = document.createElement(\"link\");\n      element.onload = on_load;\n      element.onerror = on_error.bind(null, url);\n      element.rel = \"stylesheet\";\n      element.type = \"text/css\";\n      element.href = url;\n      console.debug(\"Bokeh: injecting link tag for BokehJS stylesheet: \", url);\n      document.body.appendChild(element);\n    }\n\n    for (let i = 0; i < js_urls.length; i++) {\n      const url = js_urls[i];\n      const element = document.createElement('script');\n      element.onload = on_load;\n      element.onerror = on_error.bind(null, url);\n      element.async = false;\n      element.src = url;\n      console.debug(\"Bokeh: injecting script tag for BokehJS library: \", url);\n      document.head.appendChild(element);\n    }\n  };\n\n  function inject_raw_css(css) {\n    const element = document.createElement(\"style\");\n    element.appendChild(document.createTextNode(css));\n    document.body.appendChild(element);\n  }\n\n  \n  const js_urls = [\"https://cdn.bokeh.org/bokeh/release/bokeh-2.4.2.min.js\", \"https://cdn.bokeh.org/bokeh/release/bokeh-gl-2.4.2.min.js\", \"https://cdn.bokeh.org/bokeh/release/bokeh-widgets-2.4.2.min.js\", \"https://cdn.bokeh.org/bokeh/release/bokeh-tables-2.4.2.min.js\", \"https://cdn.bokeh.org/bokeh/release/bokeh-mathjax-2.4.2.min.js\"];\n  const css_urls = [];\n  \n\n  const inline_js = [\n    function(Bokeh) {\n      Bokeh.set_log_level(\"info\");\n    },\n    function(Bokeh) {\n    \n    \n    }\n  ];\n\n  function run_inline_js() {\n    \n    if (root.Bokeh !== undefined || force === true) {\n      \n    for (let i = 0; i < inline_js.length; i++) {\n      inline_js[i].call(root, root.Bokeh);\n    }\n    if (force === true) {\n        display_loaded();\n      }} else if (Date.now() < root._bokeh_timeout) {\n      setTimeout(run_inline_js, 100);\n    } else if (!root._bokeh_failed_load) {\n      console.log(\"Bokeh: BokehJS failed to load within specified timeout.\");\n      root._bokeh_failed_load = true;\n    } else if (force !== true) {\n      const cell = $(document.getElementById(\"1875\")).parents('.cell').data().cell;\n      cell.output_area.append_execute_result(NB_LOAD_WARNING)\n    }\n\n  }\n\n  if (root._bokeh_is_loading === 0) {\n    console.debug(\"Bokeh: BokehJS loaded, going straight to plotting\");\n    run_inline_js();\n  } else {\n    load_libs(css_urls, js_urls, function() {\n      console.debug(\"Bokeh: BokehJS plotting callback run at\", now());\n      run_inline_js();\n    });\n  }\n}(window));",
      "application/vnd.bokehjs_load.v0+json": ""
     },
     "metadata": {},
     "output_type": "display_data"
    }
   ],
   "source": [
    "import pandas as pd\n",
    "import numpy as np\n",
    "\n",
    "from bokeh.io import output_notebook\n",
    "\n",
    "output_notebook()"
   ]
  },
  {
   "cell_type": "code",
   "execution_count": 7,
   "metadata": {},
   "outputs": [
    {
     "data": {
      "text/html": [
       "<div>\n",
       "<style scoped>\n",
       "    .dataframe tbody tr th:only-of-type {\n",
       "        vertical-align: middle;\n",
       "    }\n",
       "\n",
       "    .dataframe tbody tr th {\n",
       "        vertical-align: top;\n",
       "    }\n",
       "\n",
       "    .dataframe thead th {\n",
       "        text-align: right;\n",
       "    }\n",
       "</style>\n",
       "<table border=\"1\" class=\"dataframe\">\n",
       "  <thead>\n",
       "    <tr style=\"text-align: right;\">\n",
       "      <th></th>\n",
       "      <th>Location</th>\n",
       "      <th>Variant</th>\n",
       "      <th>Time</th>\n",
       "      <th>PopMale</th>\n",
       "      <th>PopFemale</th>\n",
       "      <th>PopTotal</th>\n",
       "    </tr>\n",
       "  </thead>\n",
       "  <tbody>\n",
       "    <tr>\n",
       "      <th>0</th>\n",
       "      <td>Afghanistan</td>\n",
       "      <td>Medium</td>\n",
       "      <td>1950</td>\n",
       "      <td>4099.243</td>\n",
       "      <td>3652.874</td>\n",
       "      <td>7752.117</td>\n",
       "    </tr>\n",
       "    <tr>\n",
       "      <th>1</th>\n",
       "      <td>Afghanistan</td>\n",
       "      <td>Medium</td>\n",
       "      <td>1951</td>\n",
       "      <td>4134.756</td>\n",
       "      <td>3705.395</td>\n",
       "      <td>7840.151</td>\n",
       "    </tr>\n",
       "    <tr>\n",
       "      <th>2</th>\n",
       "      <td>Afghanistan</td>\n",
       "      <td>Medium</td>\n",
       "      <td>1952</td>\n",
       "      <td>4174.450</td>\n",
       "      <td>3761.546</td>\n",
       "      <td>7935.996</td>\n",
       "    </tr>\n",
       "    <tr>\n",
       "      <th>3</th>\n",
       "      <td>Afghanistan</td>\n",
       "      <td>Medium</td>\n",
       "      <td>1953</td>\n",
       "      <td>4218.336</td>\n",
       "      <td>3821.348</td>\n",
       "      <td>8039.684</td>\n",
       "    </tr>\n",
       "    <tr>\n",
       "      <th>4</th>\n",
       "      <td>Afghanistan</td>\n",
       "      <td>Medium</td>\n",
       "      <td>1954</td>\n",
       "      <td>4266.484</td>\n",
       "      <td>3884.832</td>\n",
       "      <td>8151.316</td>\n",
       "    </tr>\n",
       "    <tr>\n",
       "      <th>...</th>\n",
       "      <td>...</td>\n",
       "      <td>...</td>\n",
       "      <td>...</td>\n",
       "      <td>...</td>\n",
       "      <td>...</td>\n",
       "      <td>...</td>\n",
       "    </tr>\n",
       "    <tr>\n",
       "      <th>280927</th>\n",
       "      <td>Zimbabwe</td>\n",
       "      <td>Lower 95 PI</td>\n",
       "      <td>2080</td>\n",
       "      <td>10576.533</td>\n",
       "      <td>11255.983</td>\n",
       "      <td>21836.893</td>\n",
       "    </tr>\n",
       "    <tr>\n",
       "      <th>280928</th>\n",
       "      <td>Zimbabwe</td>\n",
       "      <td>Lower 95 PI</td>\n",
       "      <td>2085</td>\n",
       "      <td>10293.349</td>\n",
       "      <td>11050.875</td>\n",
       "      <td>21355.988</td>\n",
       "    </tr>\n",
       "    <tr>\n",
       "      <th>280929</th>\n",
       "      <td>Zimbabwe</td>\n",
       "      <td>Lower 95 PI</td>\n",
       "      <td>2090</td>\n",
       "      <td>9920.336</td>\n",
       "      <td>10767.709</td>\n",
       "      <td>20689.956</td>\n",
       "    </tr>\n",
       "    <tr>\n",
       "      <th>280930</th>\n",
       "      <td>Zimbabwe</td>\n",
       "      <td>Lower 95 PI</td>\n",
       "      <td>2095</td>\n",
       "      <td>9503.711</td>\n",
       "      <td>10412.184</td>\n",
       "      <td>19892.080</td>\n",
       "    </tr>\n",
       "    <tr>\n",
       "      <th>280931</th>\n",
       "      <td>Zimbabwe</td>\n",
       "      <td>Lower 95 PI</td>\n",
       "      <td>2100</td>\n",
       "      <td>9090.075</td>\n",
       "      <td>9996.105</td>\n",
       "      <td>19061.177</td>\n",
       "    </tr>\n",
       "  </tbody>\n",
       "</table>\n",
       "<p>280932 rows × 6 columns</p>\n",
       "</div>"
      ],
      "text/plain": [
       "           Location      Variant  Time    PopMale  PopFemale   PopTotal\n",
       "0       Afghanistan       Medium  1950   4099.243   3652.874   7752.117\n",
       "1       Afghanistan       Medium  1951   4134.756   3705.395   7840.151\n",
       "2       Afghanistan       Medium  1952   4174.450   3761.546   7935.996\n",
       "3       Afghanistan       Medium  1953   4218.336   3821.348   8039.684\n",
       "4       Afghanistan       Medium  1954   4266.484   3884.832   8151.316\n",
       "...             ...          ...   ...        ...        ...        ...\n",
       "280927     Zimbabwe  Lower 95 PI  2080  10576.533  11255.983  21836.893\n",
       "280928     Zimbabwe  Lower 95 PI  2085  10293.349  11050.875  21355.988\n",
       "280929     Zimbabwe  Lower 95 PI  2090   9920.336  10767.709  20689.956\n",
       "280930     Zimbabwe  Lower 95 PI  2095   9503.711  10412.184  19892.080\n",
       "280931     Zimbabwe  Lower 95 PI  2100   9090.075   9996.105  19061.177\n",
       "\n",
       "[280932 rows x 6 columns]"
      ]
     },
     "execution_count": 7,
     "metadata": {},
     "output_type": "execute_result"
    }
   ],
   "source": [
    "tp = pd.read_csv('WPP2019_TotalPopulationBySex.csv')\n",
    "tp = tp[['Location', 'Variant', 'Time', 'PopMale', 'PopFemale', 'PopTotal']]\n",
    "tp"
   ]
  },
  {
   "cell_type": "code",
   "execution_count": 12,
   "metadata": {},
   "outputs": [
    {
     "data": {
      "text/html": [
       "\n",
       "\n",
       "\n",
       "\n",
       "\n",
       "\n",
       "  <div class=\"bk-root\" id=\"a6b7a646-ae97-480b-a612-8a85ef68b95b\" data-root-id=\"1876\"></div>\n"
      ]
     },
     "metadata": {},
     "output_type": "display_data"
    },
    {
     "data": {
      "application/javascript": "(function(root) {\n  function embed_document(root) {\n    \n  const docs_json = {\"1bd3deea-fde6-4772-80ea-8213a1aecb52\":{\"defs\":[],\"roots\":{\"references\":[{\"attributes\":{\"below\":[{\"id\":\"1885\"}],\"center\":[{\"id\":\"1888\"},{\"id\":\"1892\"}],\"left\":[{\"id\":\"1889\"}],\"renderers\":[{\"id\":\"1911\"}],\"title\":{\"id\":\"1987\"},\"toolbar\":{\"id\":\"1900\"},\"x_range\":{\"id\":\"1877\"},\"x_scale\":{\"id\":\"1881\"},\"y_range\":{\"id\":\"1879\"},\"y_scale\":{\"id\":\"1883\"}},\"id\":\"1876\",\"subtype\":\"Figure\",\"type\":\"Plot\"},{\"attributes\":{},\"id\":\"1879\",\"type\":\"DataRange1d\"},{\"attributes\":{\"coordinates\":null,\"data_source\":{\"id\":\"1907\"},\"glyph\":{\"id\":\"1908\"},\"group\":null,\"hover_glyph\":null,\"muted_glyph\":{\"id\":\"1910\"},\"nonselection_glyph\":{\"id\":\"1909\"},\"view\":{\"id\":\"1912\"}},\"id\":\"1911\",\"type\":\"GlyphRenderer\"},{\"attributes\":{\"source\":{\"id\":\"1907\"}},\"id\":\"1912\",\"type\":\"CDSView\"},{\"attributes\":{\"fill_color\":{\"value\":\"#1f77b4\"},\"line_color\":{\"value\":\"#1f77b4\"},\"x\":{\"field\":\"x\"},\"y\":{\"field\":\"y\"}},\"id\":\"1908\",\"type\":\"Circle\"},{\"attributes\":{\"axis_label\":\"Location\",\"coordinates\":null,\"formatter\":{\"id\":\"1993\"},\"group\":null,\"major_label_policy\":{\"id\":\"1994\"},\"ticker\":{\"id\":\"1886\"}},\"id\":\"1885\",\"type\":\"LinearAxis\"},{\"attributes\":{\"axis_label\":\"Female - Male\",\"coordinates\":null,\"formatter\":{\"id\":\"1990\"},\"group\":null,\"major_label_policy\":{\"id\":\"1991\"},\"ticker\":{\"id\":\"1890\"}},\"id\":\"1889\",\"type\":\"LinearAxis\"},{\"attributes\":{\"coordinates\":null,\"group\":null},\"id\":\"1987\",\"type\":\"Title\"},{\"attributes\":{\"data\":{\"x\":[0,1,2,3,4,5,6,7,8,9,10,11,12,13,14,15,16,17,18,19,20,21,22,23,24,25,26,27,28,29,30,31,32,33,34,35,36,37,38,39,40,41,42,43,44,45,46,47,48,49,50,51,52,53,54,55,56,57,58,59,60,61,62,63,64,65,66,67,68,69,70,71,72,73,74,75,76,77,78,79,80,81,82,83,84,85,86,87,88,89,90,91,92,93,94,95,96,97,98,99,100,101,102,103,104,105,106,107,108,109,110,111,112,113,114,115,116,117,118,119,120,121,122,123,124,125,126,127,128,129,130,131,132,133,134,135,136,137,138,139,140,141,142,143,144,145,146,147,148,149,150,151,152,153,154,155,156,157,158,159,160,161,162,163,164,165,166,167,168,169,170,171,172,173,174,175,176,177,178,179,180,181,182,183,184,185,186,187,188,189,190,191,192,193,194,195,196,197,198,199,200,201,202,203,204,205,206,207,208,209,210,211,212,213,214,215,216,217,218,219,220,221,222,223,224,225,226,227,228,229,230,231,232,233,234,235,236,237,238,239,240,241,242,243,244,245,246,247,248,249,250,251,252,253,254,255,256,257,258,259,260,261,262,263,264,265,266,267,268,269,270,271,272,273,274,275,276,277,278,279,280,281,282,283,284,285,286,287,288,289,290,291,292,293,294,295,296,297,298,299,300,301,302,303,304,305,306,307,308,309,310,311,312,313,314,315,316,317,318,319,320,321,322,323,324,325,326,327,328,329,330,331,332,333,334,335,336,337,338,339,340,341,342,343,344,345,346,347,348,349,350,351,352,353,354,355,356,357,358,359,360,361,362,363,364,365,366,367,368,369,370,371,372,373,374,375,376,377,378,379,380,381,382,383,384,385,386,387,388,389,390,391,392,393,394,395,396,397,398,399,400,401,402,403,404,405,406,407,408,409,410,411,412,413,414,415,416,417,418,419,420,421,422,423,424,425,426,427,428,429,430,431,432,433,434,435,436,437,438,439,440,441,442,443,444,445,446,447,448,449,450,451,452,453,454,455,456,457,458,459,460,461,462,463,464,465,466,467,468,469,470,471,472,473,474,475,476],\"y\":{\"__ndarray__\":\"oEOLbOfle8DAne+nRoCVQAApXI9CXJVAgEFg5dBclUBg5dAi2+6PQACyne+nDmdAgGiR7XwzesDAbOf7qeF4QAC9dJMYwGZAwNAi23mpmUAg2c73U6NAwIDAyqFF3mLAAAAAAAAA+H+AeOkmMShbQAAAAAAAAPh/4CQGgZXXYEAAAAAAAAD4f+D5fmq8dAhAgBKDwMp5dMDQItv5fkpRQADVeOkmMfQ/MLTIdn5/4MAAqvHSTRK1wHASg8DqyODAgDeJQWANhkAAI9v5fspPwEBkO99PZVLAINv5fmoIf0AQLbKd7/9mQGC8dJNofNDAAKrx0r2W0MA4tMh2vp8WQCTb+X5qPCHAAIGVQwspmsDMoUW28/0wQKQaL90kCIxAQLpJDALzXkCgGi/dJAb3P5DAyqFtINVAAKRwPQqnjUCAlUOLrJSywLCd76cePNlAQIXrUbhScMCQbOf7qTlhwHhqvHSTOGNAAAAAAAAA+H8Q16NwPQoSwNjO91N76dNAINejcD1mbMCgGARWDi1FQAAAAAAAAPh/8Chcj8IFV0AgL90kBkEqQMBDi2zna3pAAAAAAAAA+H/QItv5fmr2vwDo+6nx0gdAwCCwcmhVasBw5/up8WpYQDAzMzMzMyRAAIDl0CLbyT9A30+Nl1ZVQGC6SQwCo2jAAA4tsp0PTMAAf2q8dB9kQAAAAAAAAPh/YA4tsp2vMkAAYhBYOURFQAAAAAAAMIRAIFpkO9/LgkBAMzMzk6XOwIDn+6nxIkBAYBBYObRIEEAAVOOlmzRSwOAkBoEdkdTA0Ha+n0LV1MAwMzMzMzNLwDAIrBxa5BDAsMh2vp++asBA5dAi28lTQESLbOdbY9RA4KNwPfqfysAABFYOLQqDQHAQWDkE/87AALgeheupXMBANV66yX+eQGA730+ND2rAAArXo3A97j/A9Shcj0IjQAAAAAAAAPh/QOF6FK4nMsAAQN9PjXdsQICF61G4PI1AULbz/ejF4MBkEFg5vH/gQACIwvUoDEnAAIhBYOXMYUAg2/l+athtwJjEILBysGZAQDVeuklIaMAAFtnO91PDP+AoXI/C9RpA8KfGSzcFcECA61G4HhVCwIBqvHSTLolAoHA9CtcLiECAuB6F6wFBQAAAAAAAwEBAACPb+X5q3D8AAAAAAAD4fwDTTWIQ+D3AALTIdr6bYUB46SYxGFbiQACUbhKD4FPAQGIQWDnEV0BANV66CTHSwIgW2c5n78xAAK5H4XrYbcAwXI/CdRLQwACyne+n5IVAYBBYOVQ+4cAAg8DKoQ1uwHCTGAT22MzAAFYOLRLU08CAN4lBYA2GQLByaJHtPpJAYJHtfP+yqsAAqMZLV1jTwACDwMqhmoFAYDm0yPbTn8Do+6nx0qVkwDCyne9nUs/AoHJoke0Hl0CAFK5H4Uh7QCBcj8K18cvAQAaBlQP0vMAgsHJoOVjTwCAv3SSGIJdA4PdT4yUUl0AAqMZLV1jTwIBs5/v5A87AANejcO0hy8AQWDm0EHvSwAC0ne+nJl1AcLx0kxgIgsDoJjEIXGXJQIBmZmYmV73AQGIQWDmkhsAAuB6F6xEpwGDjpZvEWFfAgG4Sg8CyXcBAukkMAj1/wGC4HoXreoLAgGzn+6kdbUDA8/3UeGKBQNAi2/mGZtLAACuHFlne1UDMItv5DonXQEA1Xrpht9HAmO+nxsunkkAAvXSTGMBmQGCR7Xz/sqrAAP7UeOnmNECgl24Sg3hzwMAcWmQ7/zxAgJHtfD81DkAA/tR46aYeQLTIdr6fPmRAgOkmMQgsHkBAjZduEntgQAArhxYpn81ASAwCK5PG4UBIDAIrk8bhQEgMAiuTxuFA0E1iEGDY4UDw+6nxUkLHQLB0kxgEzmhAcBSuR5GiyEBwaJHtHCvPQAAAAAAAAPh/AAAAAAAA+H9QjZduEgMqwFA5tMh2VmZAQGIQWLk2mUAgMQisHIaZQHBmZmZmZu6/yCCwcmiRBcAAVOOlm0QnQKBFtvP9VBhAhOtRuB7JcEDYeOkmcRa1QACwcmiR3UvAAAAAAAAA+H+AHFpkO4qHwFCPwvUo5GlAAAAAAAAA+H9g5dAi23kZQJCXbhI3CeHA8FPjpRP42EDAnxovnUjHQABiEFgZNbPAgBSuR+H6H0DGSzeJQUA1wAD+1Hjppj7AAGBkO99P3b+Aj8L1KFwYQGDjpZvEWFfAwJmZmZmZCEBADAIrh2ZTQECLbOfbFtBAAAAAAAAA+H+AEoPAyuEhwNAi2/l+znVAACCF61G4jr9gke18f1HDwACmm8QgJ4FAwCCwcmjFcsAAhMDKoQUtQGC4HoXrcUnAAAAAAAAA+H9ANV66ScxBwMBLN4nBN5NAUI2XbhLzQkDATWIQWPSYQIgW2c73MzLAoPHSTWLwakDARbbz/SRKwGCNl24Sg+A/4noUrkeBPcA4tMh2vpdUQIBs5/uph3tAAIPAyqGagUDgehSuR61iQOB6FK5HaVBA4Hw/NV7IrEAYg8DKoUKjQMDz/dR4C5NAgML1KFyvOEAAoJmZmRkvQACgmZmZGS9AAJTtfD9lWsAAAFCNl24PQEoMAiuHOnBAQGIQWDmkhsAAkML1KDBpwIDtfD+1LpxAYLpJDEIwoMBADAIrh2ZTQJDC9ShcTyXAgG4Sg8CKIcCsHFpkO69SQEAMAivTreDAgEOLbMcMycDASQwCo5TgwMCd76dGgJVAoMZLNyFH4cAAoJmZmRkvQPAoXI/CpWTAqBxaZDvfQsDAne+nxntDwAAAAAAAAPh/2E1iEFhtb0BA4XoULp2eQCBYObSY4MDAAADw0k1iUL9AYOXQIhtdwKDEILBygF1AQN9PjZdWZsBYObTIdj4jwCBcj8L1gFvAwMqhRbbzD0AAAAAAAAD4f8j1KFyPAiRAYA4tsp3vJUDAeOkmMQgAQMT1KFyPwvW/ULgehev1YMAAqvHSTfpUQITAyqFFdjbAIFg5tMh27r/YeOkmsYuQQABQjZfuaszAAAAAAAAA+H/gU+Olm4QqQDgzMzMzEzNAAAAAAAAA+H+IwvUo0JbiQMBNYhBY9JhASAwCK5PG4UAAiEFg5cxhQEBkO99PZVLAgLKd76eGR0AgXI/C9cBgQAAgrkfhev4/QIcW2c73C0AAAAAAAAD4f4AMAiuHRlNAAPCnxktXP0CAbhKDwDpBQCgGgZVDiwvA4E+Nly4iqkCAl24SgwAkwIDAyqFFtiTAAFTjpZvEHECgRbbz/RxvQACcxCCwwlVAAAAAAAAA+H9Qi2zn+wk7QJiZmZmZmTfAAIpBYOUYbEBgaJHtnPDNQADb+X5qvBLAwJ8aL92aesAABoGVQ893wACIQWDlzGFAAIhBYOXMYUAgXI/C9TKmQAAAAAAAAPh/AIXrUbhePUAg2/l+athtwPAoXI/CpWTAoB6F61G4G8BAN4lBOJ7QQLhJDAKHXOJAAPT91HgZYkCAZmZmZjp4wAD+1HhpULPAODMzMzNoqsAAAAAAAAD4f0BeukkMQjXAOIlBYOX4WsBgukkMAks3QMBwPQrX40DAABBYObRgWUAw3SQGATCSQHASg8DKIRzAUGIQWDlGdEAABoGVQ8skwADZzvdT49W/AFyPwvWwUkDASQwCK0NjQDBeukkM0YBAMAisHIqnykBACtejcK1CQBgv3SQGgSRAwJ8aL910Q8AAIbByaMFMwOj7qfHSpWTAAAAAAAAA+H8AAAAAAAD4fwAAAAAAAPh/gJMYBFYO8z8AAAAAAAD4fwAAAAAAAPh/QLTIdr6fD0DgpZvEILAEwAAAAAAAAPh/NN0kBoGVGsAgg8DKoYVHwKBuEoPAik1AUGQ7308VaEBgukkMAiv9P0A3iUGQl9PAgBbZzvfjRECIbOf7qUFCwAAAAAAAAPh/gGzn+6kxWkAwCKwcWixQQABWDi2yWXDADC2yne9nIsDAnxov3WQwQECR7Xw/VVrAACgGgZUjPUAwsp3vZ1LPwIBoke18/0jAALKd76fkhUAAwMqhRbYZwPDQItt5a5NAMDMzM5Poz8AAXI/C9UhAQDAGgZVDDapA8Hw/NV5+kECcxCCwciCGwGjn+6nxgkHAgEW28/0mnEAASgwCKwcSQIAOLbKd7+8/gKnx0k1CPUBg5/up8RZlQDgK16NwmWHAENnO91OTSEAAJQaBlctQwGCPwvUoXBTAgJMYBFbuM0AAAAAAAAD4f8BNYhBYOei/gJHtfD81AsDAILByaBE4QICPwvUoLF7AILKd76fGN0AAAAAAAAD4fwAAAAAAAPh/ODMzM2tW4kAA16Nw3ZTawABaZDvfT4TA8FG4HhWR4cBg4XoULkqWQMggsHIIyb1AAACoxku3H0AAtvP91Lp1QIBuEoPA89nAQArXo+At08AAK4cW2Z5BQIA9Ctej+4RAtHJokV1XwEAA2Pl+agxCwAAArBxaZOu/4HjpJrF0kMAwsp3vZ1LPwACmm8SgdJFAAGQ738+PrkDwKFyPEvPRwHQ9Ctdzf9VAAAAAAACJhUB46SYxTEriQACgmZmZGS9AAPyp8VIWkcAAiEFg5cxhQDCyne9nUs/AwFG4HgU5nEDgUbgehXSRQAArhxZJKs5AADzfT43VrkAAaJHtfH8qQBbZzvcToLRAwHSTGARW7r9ACKwc2lSeQCDZzvfTgp5AAClcj0JclUAAYA4tsh0vQACoxktXWNPAADzfT43VrkBAi2zn+11nQLCbxCCwcuA/ADiJQWAfdUAAfT81XhxzQIDvp8arFLfAwJvEILASOsDQo3A9CjNxQPj91HjpJgHAgGq8dJOIWcBAObTIdoRzQNDMzMz0LdPA6Pup8RJS1UAAjpduEm96QMBNYhBYIo7AMLKd72dSz8DARbbzfQycQABaZDsfebBAQIlBYGVkmUAA9P3UeBliQJhDi2xHRbLAuMh2vsNE4kCAke18/1bFwMD1KFzn6NLAAAAAAAAA+H8AKVyPwl1gQADufD81HmhAAM7MzMxcRkAQhetRGJu+QMDz/dQY3chAgG4Sg8DKwT8AZDvfz4+uQMDz/dRIl8jAQN0kBoHlRsAAJzEIrBwkQAArhxbZzh5A\",\"dtype\":\"float64\",\"order\":\"little\",\"shape\":[477]}},\"selected\":{\"id\":\"1996\"},\"selection_policy\":{\"id\":\"1995\"}},\"id\":\"1907\",\"type\":\"ColumnDataSource\"},{\"attributes\":{},\"id\":\"1877\",\"type\":\"DataRange1d\"},{\"attributes\":{\"fill_alpha\":{\"value\":0.1},\"fill_color\":{\"value\":\"#1f77b4\"},\"hatch_alpha\":{\"value\":0.1},\"line_alpha\":{\"value\":0.1},\"line_color\":{\"value\":\"#1f77b4\"},\"x\":{\"field\":\"x\"},\"y\":{\"field\":\"y\"}},\"id\":\"1909\",\"type\":\"Circle\"},{\"attributes\":{},\"id\":\"1894\",\"type\":\"WheelZoomTool\"},{\"attributes\":{},\"id\":\"1990\",\"type\":\"BasicTickFormatter\"},{\"attributes\":{\"axis\":{\"id\":\"1889\"},\"coordinates\":null,\"dimension\":1,\"group\":null,\"ticker\":null},\"id\":\"1892\",\"type\":\"Grid\"},{\"attributes\":{},\"id\":\"1991\",\"type\":\"AllLabels\"},{\"attributes\":{},\"id\":\"1890\",\"type\":\"BasicTicker\"},{\"attributes\":{},\"id\":\"1993\",\"type\":\"BasicTickFormatter\"},{\"attributes\":{},\"id\":\"1898\",\"type\":\"HelpTool\"},{\"attributes\":{},\"id\":\"1893\",\"type\":\"PanTool\"},{\"attributes\":{},\"id\":\"1994\",\"type\":\"AllLabels\"},{\"attributes\":{},\"id\":\"1881\",\"type\":\"LinearScale\"},{\"attributes\":{\"overlay\":{\"id\":\"1899\"}},\"id\":\"1895\",\"type\":\"BoxZoomTool\"},{\"attributes\":{},\"id\":\"1896\",\"type\":\"SaveTool\"},{\"attributes\":{},\"id\":\"1897\",\"type\":\"ResetTool\"},{\"attributes\":{},\"id\":\"1886\",\"type\":\"BasicTicker\"},{\"attributes\":{\"bottom_units\":\"screen\",\"coordinates\":null,\"fill_alpha\":0.5,\"fill_color\":\"lightgrey\",\"group\":null,\"left_units\":\"screen\",\"level\":\"overlay\",\"line_alpha\":1.0,\"line_color\":\"black\",\"line_dash\":[4,4],\"line_width\":2,\"right_units\":\"screen\",\"syncable\":false,\"top_units\":\"screen\"},\"id\":\"1899\",\"type\":\"BoxAnnotation\"},{\"attributes\":{},\"id\":\"1995\",\"type\":\"UnionRenderers\"},{\"attributes\":{},\"id\":\"1996\",\"type\":\"Selection\"},{\"attributes\":{\"axis\":{\"id\":\"1885\"},\"coordinates\":null,\"group\":null,\"ticker\":null},\"id\":\"1888\",\"type\":\"Grid\"},{\"attributes\":{\"tools\":[{\"id\":\"1893\"},{\"id\":\"1894\"},{\"id\":\"1895\"},{\"id\":\"1896\"},{\"id\":\"1897\"},{\"id\":\"1898\"}]},\"id\":\"1900\",\"type\":\"Toolbar\"},{\"attributes\":{},\"id\":\"1883\",\"type\":\"LinearScale\"},{\"attributes\":{\"fill_alpha\":{\"value\":0.2},\"fill_color\":{\"value\":\"#1f77b4\"},\"hatch_alpha\":{\"value\":0.2},\"line_alpha\":{\"value\":0.2},\"line_color\":{\"value\":\"#1f77b4\"},\"x\":{\"field\":\"x\"},\"y\":{\"field\":\"y\"}},\"id\":\"1910\",\"type\":\"Circle\"}],\"root_ids\":[\"1876\"]},\"title\":\"Bokeh Application\",\"version\":\"2.4.2\"}};\n  const render_items = [{\"docid\":\"1bd3deea-fde6-4772-80ea-8213a1aecb52\",\"root_ids\":[\"1876\"],\"roots\":{\"1876\":\"a6b7a646-ae97-480b-a612-8a85ef68b95b\"}}];\n  root.Bokeh.embed.embed_items_notebook(docs_json, render_items);\n\n  }\n  if (root.Bokeh !== undefined) {\n    embed_document(root);\n  } else {\n    let attempts = 0;\n    const timer = setInterval(function(root) {\n      if (root.Bokeh !== undefined) {\n        clearInterval(timer);\n        embed_document(root);\n      } else {\n        attempts++;\n        if (attempts > 100) {\n          clearInterval(timer);\n          console.log(\"Bokeh: ERROR: Unable to run BokehJS code because BokehJS library is missing\");\n        }\n      }\n    }, 10, root)\n  }\n})(window);",
      "application/vnd.bokehjs_exec.v0+json": ""
     },
     "metadata": {
      "application/vnd.bokehjs_exec.v0+json": {
       "id": "1876"
      }
     },
     "output_type": "display_data"
    }
   ],
   "source": [
    "numberOf1950 = (tp['Time'] == 1950).sum()\n",
    "in1950 = tp.loc[tp['Time'] == 1950]\n",
    "female1950 = in1950['PopFemale'].to_numpy()\n",
    "male1950 = in1950['PopMale'].to_numpy()\n",
    "\n",
    "x = np.arange(numberOf1950)\n",
    "dif=[]\n",
    "\n",
    "for f, m in zip(female1950, male1950):\n",
    "    dif.append(f-m)\n",
    "\n",
    "dif = np.array(dif)\n",
    "\n",
    "fig = figure(x_axis_label = 'Location', y_axis_label = 'Female - Male')\n",
    "fig.circle(x, dif)\n",
    "show(fig)"
   ]
  },
  {
   "cell_type": "code",
   "execution_count": 18,
   "metadata": {},
   "outputs": [
    {
     "data": {
      "text/html": [
       "\n",
       "\n",
       "\n",
       "\n",
       "\n",
       "\n",
       "  <div class=\"bk-root\" id=\"8c6fbffb-8ca4-4925-bdfd-d22957af9495\" data-root-id=\"2931\"></div>\n"
      ]
     },
     "metadata": {},
     "output_type": "display_data"
    },
    {
     "data": {
      "application/javascript": "(function(root) {\n  function embed_document(root) {\n    \n  const docs_json = {\"f9c6f0c6-b571-46d1-ab82-3db92537277c\":{\"defs\":[],\"roots\":{\"references\":[{\"attributes\":{\"below\":[{\"id\":\"2940\"}],\"center\":[{\"id\":\"2943\"},{\"id\":\"2947\"},{\"id\":\"2979\"}],\"left\":[{\"id\":\"2944\"}],\"renderers\":[{\"id\":\"2966\"},{\"id\":\"2985\"}],\"title\":{\"id\":\"2968\"},\"toolbar\":{\"id\":\"2955\"},\"x_range\":{\"id\":\"2932\"},\"x_scale\":{\"id\":\"2936\"},\"y_range\":{\"id\":\"2934\"},\"y_scale\":{\"id\":\"2938\"}},\"id\":\"2931\",\"subtype\":\"Figure\",\"type\":\"Plot\"},{\"attributes\":{},\"id\":\"2952\",\"type\":\"ResetTool\"},{\"attributes\":{\"fill_color\":{\"value\":\"#1f77b4\"},\"line_color\":{\"value\":\"#1f77b4\"},\"x\":{\"field\":\"x\"},\"y\":{\"field\":\"y\"}},\"id\":\"2982\",\"type\":\"Circle\"},{\"attributes\":{},\"id\":\"2972\",\"type\":\"AllLabels\"},{\"attributes\":{\"coordinates\":null,\"group\":null,\"items\":[{\"id\":\"2980\"},{\"id\":\"3000\"}],\"location\":\"bottom_right\"},\"id\":\"2979\",\"type\":\"Legend\"},{\"attributes\":{\"axis_label\":\"Year\",\"coordinates\":null,\"formatter\":{\"id\":\"2974\"},\"group\":null,\"major_label_policy\":{\"id\":\"2975\"},\"ticker\":{\"id\":\"2941\"}},\"id\":\"2940\",\"type\":\"LinearAxis\"},{\"attributes\":{},\"id\":\"2998\",\"type\":\"Selection\"},{\"attributes\":{\"tools\":[{\"id\":\"2948\"},{\"id\":\"2949\"},{\"id\":\"2950\"},{\"id\":\"2951\"},{\"id\":\"2952\"},{\"id\":\"2953\"}]},\"id\":\"2955\",\"type\":\"Toolbar\"},{\"attributes\":{\"label\":{\"value\":\"Women\"},\"renderers\":[{\"id\":\"2966\"}]},\"id\":\"2980\",\"type\":\"LegendItem\"},{\"attributes\":{},\"id\":\"2936\",\"type\":\"LinearScale\"},{\"attributes\":{},\"id\":\"2932\",\"type\":\"DataRange1d\"},{\"attributes\":{\"fill_alpha\":{\"value\":0.1},\"fill_color\":{\"value\":\"#1f77b4\"},\"hatch_alpha\":{\"value\":0.1},\"line_alpha\":{\"value\":0.1},\"line_color\":{\"value\":\"#1f77b4\"},\"x\":{\"field\":\"x\"},\"y\":{\"field\":\"y\"}},\"id\":\"2983\",\"type\":\"Circle\"},{\"attributes\":{\"data\":{\"x\":{\"__ndarray__\":\"ngcAAJ8HAACgBwAAoQcAAKIHAACjBwAApAcAAKUHAACmBwAApwcAAKgHAACpBwAAqgcAAKsHAACsBwAArQcAAK4HAACvBwAAsAcAALEHAACyBwAAswcAALQHAAC1BwAAtgcAALcHAAC4BwAAuQcAALoHAAC7BwAAvAcAAL0HAAC+BwAAvwcAAMAHAADBBwAAwgcAAMMHAADEBwAAxQcAAMYHAADHBwAAyAcAAMkHAADKBwAAywcAAMwHAADNBwAAzgcAAM8HAADQBwAA0QcAANIHAADTBwAA1AcAANUHAADWBwAA1wcAANgHAADZBwAA2gcAANsHAADcBwAA3QcAAN4HAADfBwAA4AcAAOEHAADiBwAA4wcAAOQHAADlBwAA5gcAAOcHAADoBwAA6QcAAOoHAADrBwAA7AcAAO0HAADuBwAA7wcAAPAHAADxBwAA8gcAAPMHAAD0BwAA9QcAAPYHAAD3BwAA+AcAAPkHAAD6BwAA+wcAAPwHAAD9BwAA/gcAAP8HAAAACAAAAQgAAAIIAAADCAAABAgAAAUIAAAGCAAABwgAAAgIAAAJCAAACggAAAsIAAAMCAAADQgAAA4IAAAPCAAAEAgAABEIAAASCAAAEwgAABQIAAAVCAAAFggAABcIAAAYCAAAGQgAABoIAAAbCAAAHAgAAB0IAAAeCAAAHwgAACAIAAAhCAAAIggAACMIAAAkCAAAJQgAACYIAAAnCAAAKAgAACkIAAAqCAAAKwgAACwIAAAtCAAALggAAC8IAAAwCAAAMQgAADIIAAAzCAAANAgAAA==\",\"dtype\":\"int32\",\"order\":\"little\",\"shape\":[151]},\"y\":{\"__ndarray__\":\"cT0K/9tih0HXo3A8A9eHQUw3iZzwSIhBiUFgsX26iEG28/1hLy2JQbKd79Q1oolBz/dTxmgaikH8qfFLS5aKQQaBlSAVFotB3SQGC8OZi0FvEoMcRyGMQQ4tsoK8rIxBXI/CjZQ8jUGTGARQqtGNQfp+ak0LbY5B3SQGnlYPj0H4U+Pl17iPQV66yZp8NJBBlkOLvyuPkEHn+ymdguuQQRfZTnu+SJFBXrpJMLmmkUEGgRX6dAWSQSGwcoyLZJJBLbKdW5DDkkFaZDsXQyKTQbgeBaJvgJNBz/dTW0Tek0GcxCCdZDyUQaAaLxG3m5RBO99Ps+78lEG28/0++F+VQQwCK4S5xJVBy6FFa8wrlkFSuJ6b65WWQeF6lERxA5dBjZdup750l0H+1HjJOOmXQawc2hkDX5hBaJFtoZbTmEF56SY3HEWZQekmsdDmsplBCtejumEdmkH4U2NKKoWaQXsULjNW65pBFK7He7xQm0FeuskHeLWbQf7UeB5dGZxB/Klxn7J8nEHpJrHWw9+cQd9PjZjRQp1B2c73qACmnUF/ajwgbgmeQVK4nm5FbZ5BjZfuHLDRnkFOYhCsyjafQfLSzeennJ9BfT/1BaIBoEHdJAa3QjWgQfCnRg4haaBBQmDl/ymdoEGsHJoPUdGgQWDlEJyNBaFBZmam3tI5oUESgwCHE26hQbgeRfQ+oqFBsHLoDE3WoUHD9eihJwqiQSGw8u6ePaJBokU2PXhwokGyna8bh6KiQUSLLMe006JBrkchZAEEo0FokS0UdTOjQfyp8RIjYqNBI9v5wBmQo0ECK8frVb2jQcdLN97P6aNB1Xgp7owVpEEZBNY8lECkQR1a5OnqaqRBDi1yX5OUpEFEi6wajL2kQawcGpzR5aRBVg4tf14NpUFt5/veLjSlQVYO7ZVBWqVBVg7tH5h/pUFokS1rNKSlQfYonHEZyKVBL90kKEnrpUFoka3Yww2mQYXrUW2IL6ZBtvN9qpVQpkGR7Xz76XCmQRSuB/2DkKZB16MwWmOvpkFKDMLbh82mQUa2Mzfw6qZBsp2v+poHp0Efhev4hiOnQaabBI20PqdBokW2/SNZp0Hwp0ZO1HKnQYPACjrEi6dBSgxCo/Ojp0EZBBaeYrunQfp+qmYT0qdBx0s3JArop0HD9ShtTP2nQRsvnd3eEahBN4nBBcQlqEF1k9gm/TioQYts5/WLS6hBd74f0XFdqEElBgFEsG6oQUa2s2ZJf6hBmG6Sjj+PqEFBYOXWlJ6oQexRuF5LrahBWmT7SWW7qEFU42XP5MioQTm0CALM1ahBd76fiBziqEHByuHa1+2oQZHtPL3/+KhB+n4ql5YDqUGF6xEQnw2pQSGwMnsbF6lB+n4qYg4gqUGPwjVgeiipQW8Sg0hhMKlBRrYzFcY3qUFeuskUrj6pQaJF9ncfRalBTmIQLR9LqUGiRXbnr1CpQeXQIoHSValBppvEe4daqUGe7ydrzl6pQZZDi/+mYqlBqMYLexFmqUGcxGCFDmmpQYGVA+Sea6lBGy/dBMNtqUGLbCfjem+pQR+Fa7PFcKlB9igcCaJxqUFANd6+DXKpQQIrB9sFcqlB9P3UnIZxqUE=\",\"dtype\":\"float64\",\"order\":\"little\",\"shape\":[151]}},\"selected\":{\"id\":\"2998\"},\"selection_policy\":{\"id\":\"2997\"}},\"id\":\"2981\",\"type\":\"ColumnDataSource\"},{\"attributes\":{\"source\":{\"id\":\"2981\"}},\"id\":\"2986\",\"type\":\"CDSView\"},{\"attributes\":{},\"id\":\"2945\",\"type\":\"BasicTicker\"},{\"attributes\":{\"axis\":{\"id\":\"2940\"},\"coordinates\":null,\"group\":null,\"ticker\":null},\"id\":\"2943\",\"type\":\"Grid\"},{\"attributes\":{},\"id\":\"2976\",\"type\":\"UnionRenderers\"},{\"attributes\":{},\"id\":\"2949\",\"type\":\"WheelZoomTool\"},{\"attributes\":{\"bottom_units\":\"screen\",\"coordinates\":null,\"fill_alpha\":0.5,\"fill_color\":\"lightgrey\",\"group\":null,\"left_units\":\"screen\",\"level\":\"overlay\",\"line_alpha\":1.0,\"line_color\":\"black\",\"line_dash\":[4,4],\"line_width\":2,\"right_units\":\"screen\",\"syncable\":false,\"top_units\":\"screen\"},\"id\":\"2954\",\"type\":\"BoxAnnotation\"},{\"attributes\":{},\"id\":\"2971\",\"type\":\"BasicTickFormatter\"},{\"attributes\":{},\"id\":\"2941\",\"type\":\"BasicTicker\"},{\"attributes\":{\"label\":{\"value\":\"Men\"},\"renderers\":[{\"id\":\"2985\"}]},\"id\":\"3000\",\"type\":\"LegendItem\"},{\"attributes\":{},\"id\":\"2953\",\"type\":\"HelpTool\"},{\"attributes\":{\"axis_label\":\"Population\",\"coordinates\":null,\"formatter\":{\"id\":\"2971\"},\"group\":null,\"major_label_policy\":{\"id\":\"2972\"},\"ticker\":{\"id\":\"2945\"}},\"id\":\"2944\",\"type\":\"LinearAxis\"},{\"attributes\":{},\"id\":\"2977\",\"type\":\"Selection\"},{\"attributes\":{\"coordinates\":null,\"group\":null},\"id\":\"2968\",\"type\":\"Title\"},{\"attributes\":{},\"id\":\"2938\",\"type\":\"LinearScale\"},{\"attributes\":{},\"id\":\"2951\",\"type\":\"SaveTool\"},{\"attributes\":{\"fill_color\":{\"value\":\"red\"},\"hatch_color\":{\"value\":\"red\"},\"line_color\":{\"value\":\"red\"},\"x\":{\"field\":\"x\"},\"y\":{\"field\":\"y\"}},\"id\":\"2963\",\"type\":\"Circle\"},{\"attributes\":{},\"id\":\"2974\",\"type\":\"BasicTickFormatter\"},{\"attributes\":{},\"id\":\"2997\",\"type\":\"UnionRenderers\"},{\"attributes\":{\"fill_alpha\":{\"value\":0.1},\"fill_color\":{\"value\":\"red\"},\"hatch_alpha\":{\"value\":0.1},\"hatch_color\":{\"value\":\"red\"},\"line_alpha\":{\"value\":0.1},\"line_color\":{\"value\":\"red\"},\"x\":{\"field\":\"x\"},\"y\":{\"field\":\"y\"}},\"id\":\"2964\",\"type\":\"Circle\"},{\"attributes\":{\"data\":{\"x\":{\"__ndarray__\":\"ngcAAJ8HAACgBwAAoQcAAKIHAACjBwAApAcAAKUHAACmBwAApwcAAKgHAACpBwAAqgcAAKsHAACsBwAArQcAAK4HAACvBwAAsAcAALEHAACyBwAAswcAALQHAAC1BwAAtgcAALcHAAC4BwAAuQcAALoHAAC7BwAAvAcAAL0HAAC+BwAAvwcAAMAHAADBBwAAwgcAAMMHAADEBwAAxQcAAMYHAADHBwAAyAcAAMkHAADKBwAAywcAAMwHAADNBwAAzgcAAM8HAADQBwAA0QcAANIHAADTBwAA1AcAANUHAADWBwAA1wcAANgHAADZBwAA2gcAANsHAADcBwAA3QcAAN4HAADfBwAA4AcAAOEHAADiBwAA4wcAAOQHAADlBwAA5gcAAOcHAADoBwAA6QcAAOoHAADrBwAA7AcAAO0HAADuBwAA7wcAAPAHAADxBwAA8gcAAPMHAAD0BwAA9QcAAPYHAAD3BwAA+AcAAPkHAAD6BwAA+wcAAPwHAAD9BwAA/gcAAP8HAAAACAAAAQgAAAIIAAADCAAABAgAAAUIAAAGCAAABwgAAAgIAAAJCAAACggAAAsIAAAMCAAADQgAAA4IAAAPCAAAEAgAABEIAAASCAAAEwgAABQIAAAVCAAAFggAABcIAAAYCAAAGQgAABoIAAAbCAAAHAgAAB0IAAAeCAAAHwgAACAIAAAhCAAAIggAACMIAAAkCAAAJQgAACYIAAAnCAAAKAgAACkIAAAqCAAAKwgAACwIAAAtCAAALggAAC8IAAAwCAAAMQgAADIIAAAzCAAANAgAAA==\",\"dtype\":\"int32\",\"order\":\"little\",\"shape\":[151]},\"y\":{\"__ndarray__\":\"RItsd8pWh0H+1Hg+6MiHQTEIrCiXOIhBXrpJNLqniEGoxksK3BeJQY/C9ekuiolBhxbZTYn/iUHb+X43aXiKQQrXo9f+9IpBZDvfcD11i0HTTWKsDvmLQfYoXCmKgIxBx0s3zCQMjUE/NV79xZyNQeXQIuGMM45BYOXQwiTRjkG28/124HWPQc3MzHWTEJBBjZfuW8RokEElBgFpg8KQQX9qvGIIHZFBPzVewit4kUHJdr5n9NORQUJgZTcEMJJBRrbzSvmLkkHhepT2m+eSQUa2c3C1QpNBEFi53nKdk0FCYGWvgfiTQQ4tMrDVVJRB+n7q5CezlEGyne+vcxOVQd9PDQmVdZVBKVwPnvbZlUEEVo4WE0GWQVyPQsUaq5ZBQmBl21sYl0ElBgGXVYiXQS2ynXBn+ZdBqMZLXV9pmEE5tEhmpdaYQc3MzA6XQJlBQWBlrJCnmUGF69ELNQyaQeXQomGZb5pBCtcj3Y3SmkG6SQwaPTWbQbTIdrxtl5tBK4cW2xz5m0EZBFaRM1qcQRbZThGuupxB9ijc/5ganUG28/1GLHqdQXNoEbHB2Z1BmG4S68k5nkFQjZdDmpqeQWZmZhZK/J5B8tLNBtNen0G8dJO4Q8KfQVCNFxFRE6BB4XqUc/NFoEGynS9XCnmgQSlcDziGrKBB5/upITvgoEHjpZsK7xOhQScxSP5xR6FBDi2yfbF6oUG+nxrzo62hQXsULpct4KFBBFaOBDISokGiRXZsm0OiQRsvXbBXdKJB7nz/v2GkokGLbOeRwtOiQbbzPROMAqNBhesREcswo0EX2U4OfV6jQWZmZjGai6NBpptEESS4o0GamZm3HOSjQfhTY1KED6RBl27S31o6pEEIrNwVnGSkQQ4tcnI+jqRBH4XrZzW3pEFSuB4hd9+kQQis3IH+BqVBH4UrmMotpUHfT02T2lOlQSGwsl4veaVBLbJdzMidpUEnMcgfpcGlQcL1KMHA5KVBL91koxcHpkF3vt8GpSimQdv5/k9lSaZBFa5Hn1ZppkHn+6mreIimQVyPAivLpqZBN4kBkk7EpkHsUThmA+GmQcHKYW3q/KZBnu9nDAQYp0Ge7yc6UDKnQfCnRsXOS6dB1XhplIBkp0F56ea8ZnynQQisXH+Ek6dBvXRTxt+pp0HjpVsSgL+nQb6fWrFr1KdB+FPjf6bop0Hwp0a+MvynQWIQGDwTD6hBUI2XQ0ohqEHwp8Zr2jKoQVyPwhvHQ6hBObTIzRNUqEEQWLlTw2OoQQrX41XYcqhBXI+CslWBqEECK4cYPo+oQd9PjfKUnKhB2/n+uV6pqEGq8dJ6oLWoQY2Xbn9ewahBzcwMdJzMqEExCKyKXNeoQTvfj+uf4ahBarw06WbrqEFt5zuasvSoQZ7vp1OE/ahBvHRTVN8FqUHsUfiRyA2pQWQ7X+NFFalBvXRT3lscqUH0/dQ1DCOpQSuHlv9WKalBH4Ur3TwvqUHLoUXovTSpQYtsZ67ZOalBtvN9Q48+qUFiEJhQ3UKpQfT9lOzBRqlBVOMlxzpKqUGamZnJRE2pQbgeRXHcT6lBVg7tiP1RqUH2KNxYo1OpQVg59IPIVKlBiUEgBmdVqUE=\",\"dtype\":\"float64\",\"order\":\"little\",\"shape\":[151]}},\"selected\":{\"id\":\"2977\"},\"selection_policy\":{\"id\":\"2976\"}},\"id\":\"2962\",\"type\":\"ColumnDataSource\"},{\"attributes\":{\"axis\":{\"id\":\"2944\"},\"coordinates\":null,\"dimension\":1,\"group\":null,\"ticker\":null},\"id\":\"2947\",\"type\":\"Grid\"},{\"attributes\":{},\"id\":\"2934\",\"type\":\"DataRange1d\"},{\"attributes\":{\"overlay\":{\"id\":\"2954\"}},\"id\":\"2950\",\"type\":\"BoxZoomTool\"},{\"attributes\":{},\"id\":\"2948\",\"type\":\"PanTool\"},{\"attributes\":{\"coordinates\":null,\"data_source\":{\"id\":\"2962\"},\"glyph\":{\"id\":\"2963\"},\"group\":null,\"hover_glyph\":null,\"muted_glyph\":{\"id\":\"2965\"},\"nonselection_glyph\":{\"id\":\"2964\"},\"view\":{\"id\":\"2967\"}},\"id\":\"2966\",\"type\":\"GlyphRenderer\"},{\"attributes\":{},\"id\":\"2975\",\"type\":\"AllLabels\"},{\"attributes\":{\"coordinates\":null,\"data_source\":{\"id\":\"2981\"},\"glyph\":{\"id\":\"2982\"},\"group\":null,\"hover_glyph\":null,\"muted_glyph\":{\"id\":\"2984\"},\"nonselection_glyph\":{\"id\":\"2983\"},\"view\":{\"id\":\"2986\"}},\"id\":\"2985\",\"type\":\"GlyphRenderer\"},{\"attributes\":{\"source\":{\"id\":\"2962\"}},\"id\":\"2967\",\"type\":\"CDSView\"},{\"attributes\":{\"fill_alpha\":{\"value\":0.2},\"fill_color\":{\"value\":\"#1f77b4\"},\"hatch_alpha\":{\"value\":0.2},\"line_alpha\":{\"value\":0.2},\"line_color\":{\"value\":\"#1f77b4\"},\"x\":{\"field\":\"x\"},\"y\":{\"field\":\"y\"}},\"id\":\"2984\",\"type\":\"Circle\"},{\"attributes\":{\"fill_alpha\":{\"value\":0.2},\"fill_color\":{\"value\":\"red\"},\"hatch_alpha\":{\"value\":0.2},\"hatch_color\":{\"value\":\"red\"},\"line_alpha\":{\"value\":0.2},\"line_color\":{\"value\":\"red\"},\"x\":{\"field\":\"x\"},\"y\":{\"field\":\"y\"}},\"id\":\"2965\",\"type\":\"Circle\"}],\"root_ids\":[\"2931\"]},\"title\":\"Bokeh Application\",\"version\":\"2.4.2\"}};\n  const render_items = [{\"docid\":\"f9c6f0c6-b571-46d1-ab82-3db92537277c\",\"root_ids\":[\"2931\"],\"roots\":{\"2931\":\"8c6fbffb-8ca4-4925-bdfd-d22957af9495\"}}];\n  root.Bokeh.embed.embed_items_notebook(docs_json, render_items);\n\n  }\n  if (root.Bokeh !== undefined) {\n    embed_document(root);\n  } else {\n    let attempts = 0;\n    const timer = setInterval(function(root) {\n      if (root.Bokeh !== undefined) {\n        clearInterval(timer);\n        embed_document(root);\n      } else {\n        attempts++;\n        if (attempts > 100) {\n          clearInterval(timer);\n          console.log(\"Bokeh: ERROR: Unable to run BokehJS code because BokehJS library is missing\");\n        }\n      }\n    }, 10, root)\n  }\n})(window);",
      "application/vnd.bokehjs_exec.v0+json": ""
     },
     "metadata": {
      "application/vnd.bokehjs_exec.v0+json": {
       "id": "2931"
      }
     },
     "output_type": "display_data"
    }
   ],
   "source": [
    "#Tylko variant medium\n",
    "tp = tp.loc[tp['Variant'] == 'Medium']\n",
    "tpa = tp.groupby('Time').agg(Women = ('PopFemale', np.sum), Men = ('PopMale', np.sum), Total = (\"PopTotal\", np.sum))\n",
    "\n",
    "years = len(tpa)\n",
    "x_range = np.arange(1950, 1950 + years)\n",
    "\n",
    "world = figure(x_axis_label = 'Year', y_axis_label = 'Population')\n",
    "world.circle(x_range, tpa.Women, color = 'red', legend_label = \"Women\")\n",
    "world.circle(x_range, tpa.Men, legend_label = \"Men\")\n",
    "world.legend.location = 'bottom_right'\n",
    "#world.circle(x_range, tpa.Total, color = 'black')\n",
    "show(world)\n"
   ]
  },
  {
   "cell_type": "code",
   "execution_count": 19,
   "metadata": {},
   "outputs": [
    {
     "data": {
      "text/html": [
       "\n",
       "\n",
       "\n",
       "\n",
       "\n",
       "\n",
       "  <div class=\"bk-root\" id=\"0423d256-490e-4107-adcc-0d0dca7c9040\" data-root-id=\"3203\"></div>\n"
      ]
     },
     "metadata": {},
     "output_type": "display_data"
    },
    {
     "data": {
      "application/javascript": "(function(root) {\n  function embed_document(root) {\n    \n  const docs_json = {\"a914f315-be8d-4104-8d4b-dbfb49213d0a\":{\"defs\":[],\"roots\":{\"references\":[{\"attributes\":{\"below\":[{\"id\":\"3212\"}],\"center\":[{\"id\":\"3215\"},{\"id\":\"3219\"},{\"id\":\"3251\"}],\"left\":[{\"id\":\"3216\"}],\"renderers\":[{\"id\":\"3238\"},{\"id\":\"3257\"}],\"title\":{\"id\":\"3240\"},\"toolbar\":{\"id\":\"3227\"},\"x_range\":{\"id\":\"3204\"},\"x_scale\":{\"id\":\"3208\"},\"y_range\":{\"id\":\"3206\"},\"y_scale\":{\"id\":\"3210\"}},\"id\":\"3203\",\"subtype\":\"Figure\",\"type\":\"Plot\"},{\"attributes\":{\"fill_color\":{\"value\":\"#1f77b4\"},\"line_color\":{\"value\":\"#1f77b4\"},\"x\":{\"field\":\"x\"},\"y\":{\"field\":\"y\"}},\"id\":\"3254\",\"type\":\"Circle\"},{\"attributes\":{\"axis_label\":\"Year\",\"coordinates\":null,\"formatter\":{\"id\":\"3246\"},\"group\":null,\"major_label_policy\":{\"id\":\"3247\"},\"ticker\":{\"id\":\"3213\"}},\"id\":\"3212\",\"type\":\"LinearAxis\"},{\"attributes\":{},\"id\":\"3221\",\"type\":\"WheelZoomTool\"},{\"attributes\":{},\"id\":\"3269\",\"type\":\"UnionRenderers\"},{\"attributes\":{},\"id\":\"3220\",\"type\":\"PanTool\"},{\"attributes\":{\"overlay\":{\"id\":\"3226\"}},\"id\":\"3222\",\"type\":\"BoxZoomTool\"},{\"attributes\":{\"axis\":{\"id\":\"3216\"},\"coordinates\":null,\"dimension\":1,\"group\":null,\"ticker\":null},\"id\":\"3219\",\"type\":\"Grid\"},{\"attributes\":{\"data\":{\"x\":{\"__ndarray__\":\"ngcAAJ8HAACgBwAAoQcAAKIHAACjBwAApAcAAKUHAACmBwAApwcAAKgHAACpBwAAqgcAAKsHAACsBwAArQcAAK4HAACvBwAAsAcAALEHAACyBwAAswcAALQHAAC1BwAAtgcAALcHAAC4BwAAuQcAALoHAAC7BwAAvAcAAL0HAAC+BwAAvwcAAMAHAADBBwAAwgcAAMMHAADEBwAAxQcAAMYHAADHBwAAyAcAAMkHAADKBwAAywcAAMwHAADNBwAAzgcAAM8HAADQBwAA0QcAANIHAADTBwAA1AcAANUHAADWBwAA1wcAANgHAADZBwAA2gcAANsHAADcBwAA3QcAAN4HAADfBwAA4AcAAOEHAADiBwAA4wcAAOQHAADlBwAA5gcAAOcHAADoBwAA6QcAAOoHAADrBwAA7AcAAO0HAADuBwAA7wcAAPAHAADxBwAA8gcAAPMHAAD0BwAA9QcAAPYHAAD3BwAA+AcAAPkHAAD6BwAA+wcAAPwHAAD9BwAA/gcAAP8HAAAACAAAAQgAAAIIAAADCAAABAgAAAUIAAAGCAAABwgAAAgIAAAJCAAACggAAAsIAAAMCAAADQgAAA4IAAAPCAAAEAgAABEIAAASCAAAEwgAABQIAAAVCAAAFggAABcIAAAYCAAAGQgAABoIAAAbCAAAHAgAAB0IAAAeCAAAHwgAACAIAAAhCAAAIggAACMIAAAkCAAAJQgAACYIAAAnCAAAKAgAACkIAAAqCAAAKwgAACwIAAAtCAAALggAAC8IAAAwCAAAMQgAADIIAAAzCAAANAgAAA==\",\"dtype\":\"int32\",\"order\":\"little\",\"shape\":[151]},\"y\":{\"__ndarray__\":\"mG4SgwBhyUAzMzMzA9XJQARWDi1STMpAvp8aLz3FykCsHFpkSz7LQLgehesxtstAJzEIrNwrzED0/dR4aZ7MQBfZzvcjDc1AH4XrUYh3zUAbL90kNt3NQGIQWDnkPc5AokW2812ZzkBcj8L1eO/OQH9qvHQjQM9ARrbz/YSLz0AGgZVDm9HPQJ7vp8Z7CdBAwcqhRY4o0EDufD81/kbQQDvfT42XZdBAGQRWDpWE0EDufD81DqTQQMP1KFx3xNBAqvHSTUrm0ECPwvUo1AnRQMUgsHIgL9FAGQRWDgVW0UBGtvP9RH7RQOOlm8SAp9FAMzMzM0vR0UB1kxgEtvvRQPyp8dJdJtJA2/l+asxP0kAGgZVDI3bSQGiR7XwPmNJAi2zn++G00kDByqFF9szSQHNoke1U4dJAZmZmZpbz0kCR7Xw/5QTTQI2XbhKTFdNAPzVeukEl00A1XrpJnDPTQESLbOcTQNNA+n5qvERK00CcxCCwQlLTQAaBlUNTWNNA2c73U4Nc00CkcD0K517TQJhuEoOgX9NAtMh2vode00CamZmZ0VvTQBSuR+FqWNNAMQisHIpV00DsUbge/VPTQP7UeOleVNNA+n5qvExW00D2KFyPWljTQGDl0CKDWNNA/Knx0mVV00DNzMzMZE7TQD0K16MwRNNAbxKDwFI400B9PzVeAi3TQG3n+6nRI9NAwcqhRT4d00BqvHSTsBjTQBBYObRQFdNAK4cW2c4R00DufD81Lg3TQIlBYOU4B9NANV66SSQA00Db+X5q3PfSQNejcD1i7tJAObTIdrbj0kDy0k1iwNfSQBkEVg5tytJAN4lBYM270kB1kxgE/qvSQHe+nxoXm9JASgwCKx+J0kC0yHa+F3bSQJMYBFYOYtJAPzVeuhFN0kDl0CLbMTfSQEJg5dB6INJA9P3UePkI0kDdJAaBvfDRQAaBlUPT19FAukkMAku+0UBQjZduMqTRQLTIdr6XidFAz/dT441u0UAhsHJoKVPRQJ7vp8Z7N9FAd76fGo8b0UCF61G4bv/QQC2yne8v49BATmIQWOnG0ED4U+Olq6rQQPCnxkt/jtBAcT0K12Ny0EB/arx0U1bQQKwcWmRDOtBAmpmZmSke0ECsHFpkAwLQQNv5fmqcy89AH4XrUfiSz0BYObTI9lnPQIts5/t5IM9AhetRuH7mzkCe76fG+6vOQCUGgZXTcM5ACKwcWuQ0zkCR7Xw/FfjNQFyPwvVous1A8tJNYvB7zUD2KFyPwjzNQH9qvHQD/cxAz/dT49W8zEDRItv5TnzMQDVeukmMO8xAyXa+n8r6y0A9CtejULrLQESLbOdbestA9ihcjxI7y0BzaJHtjPzKQIts5/v5vspAy6FFtoOCykBaZDvfT0fKQClcj8J1DcpATmIQWAnVyUAnMQisHJ7JQEa28/3EaMlA6SYxCAw1yUDpJjEI/ALJQHe+nxqP0shATDeJQbCjyECF61G4PnbIQEjhehQeSshAO99PjTcfyECYbhKDgPXHQM3MzMzszMdAXrpJDHKlx0Db+X5q/H7HQPp+arx0WcdApHA9Crc0x0BOYhBYmRDHQIts5/vp7MZAj8L1KGzJxkA=\",\"dtype\":\"float64\",\"order\":\"little\",\"shape\":[151]}},\"selected\":{\"id\":\"3249\"},\"selection_policy\":{\"id\":\"3248\"}},\"id\":\"3234\",\"type\":\"ColumnDataSource\"},{\"attributes\":{},\"id\":\"3223\",\"type\":\"SaveTool\"},{\"attributes\":{},\"id\":\"3225\",\"type\":\"HelpTool\"},{\"attributes\":{},\"id\":\"3224\",\"type\":\"ResetTool\"},{\"attributes\":{\"fill_color\":{\"value\":\"red\"},\"hatch_color\":{\"value\":\"red\"},\"line_color\":{\"value\":\"red\"},\"x\":{\"field\":\"x\"},\"y\":{\"field\":\"y\"}},\"id\":\"3235\",\"type\":\"Circle\"},{\"attributes\":{},\"id\":\"3217\",\"type\":\"BasicTicker\"},{\"attributes\":{\"fill_alpha\":{\"value\":0.2},\"fill_color\":{\"value\":\"#1f77b4\"},\"hatch_alpha\":{\"value\":0.2},\"line_alpha\":{\"value\":0.2},\"line_color\":{\"value\":\"#1f77b4\"},\"x\":{\"field\":\"x\"},\"y\":{\"field\":\"y\"}},\"id\":\"3256\",\"type\":\"Circle\"},{\"attributes\":{},\"id\":\"3204\",\"type\":\"DataRange1d\"},{\"attributes\":{\"coordinates\":null,\"data_source\":{\"id\":\"3253\"},\"glyph\":{\"id\":\"3254\"},\"group\":null,\"hover_glyph\":null,\"muted_glyph\":{\"id\":\"3256\"},\"nonselection_glyph\":{\"id\":\"3255\"},\"view\":{\"id\":\"3258\"}},\"id\":\"3257\",\"type\":\"GlyphRenderer\"},{\"attributes\":{\"data\":{\"x\":{\"__ndarray__\":\"ngcAAJ8HAACgBwAAoQcAAKIHAACjBwAApAcAAKUHAACmBwAApwcAAKgHAACpBwAAqgcAAKsHAACsBwAArQcAAK4HAACvBwAAsAcAALEHAACyBwAAswcAALQHAAC1BwAAtgcAALcHAAC4BwAAuQcAALoHAAC7BwAAvAcAAL0HAAC+BwAAvwcAAMAHAADBBwAAwgcAAMMHAADEBwAAxQcAAMYHAADHBwAAyAcAAMkHAADKBwAAywcAAMwHAADNBwAAzgcAAM8HAADQBwAA0QcAANIHAADTBwAA1AcAANUHAADWBwAA1wcAANgHAADZBwAA2gcAANsHAADcBwAA3QcAAN4HAADfBwAA4AcAAOEHAADiBwAA4wcAAOQHAADlBwAA5gcAAOcHAADoBwAA6QcAAOoHAADrBwAA7AcAAO0HAADuBwAA7wcAAPAHAADxBwAA8gcAAPMHAAD0BwAA9QcAAPYHAAD3BwAA+AcAAPkHAAD6BwAA+wcAAPwHAAD9BwAA/gcAAP8HAAAACAAAAQgAAAIIAAADCAAABAgAAAUIAAAGCAAABwgAAAgIAAAJCAAACggAAAsIAAAMCAAADQgAAA4IAAAPCAAAEAgAABEIAAASCAAAEwgAABQIAAAVCAAAFggAABcIAAAYCAAAGQgAABoIAAAbCAAAHAgAAB0IAAAeCAAAHwgAACAIAAAhCAAAIggAACMIAAAkCAAAJQgAACYIAAAnCAAAKAgAACkIAAAqCAAAKwgAACwIAAAtCAAALggAAC8IAAAwCAAAMQgAADIIAAAzCAAANAgAAA==\",\"dtype\":\"int32\",\"order\":\"little\",\"shape\":[151]},\"y\":{\"__ndarray__\":\"8tJNYgAbx0A5tMh2fozHQKRwPQrXBchAmG4SgwCFyEDZzvdT8wfJQBkEVg6tjMlAXI/C9SgRykAX2c73Y5PKQJ7vp8ZrEctAYOXQImuJy0AlBoGV4/nLQAIrhxbpYcxAw/UoXE/BzEDByqFFxhjNQHWTGASWac1A30+Nl+60zUD0/dR46frNQPLSTWLgO85A001iEKh5zkDdJAaBlbbOQFCNl25y9M5AlkOLbAc0z0BWDi2ybXXPQBkEVg7duM9AWmQ730/+z0D2KFyP2iLQQO58PzVmR9BAIbByaMls0ECF61G4LpPQQEoMAivPutBAjZduEqPj0EAbL90k5g3RQHNoke0EOdFAg8DKoSVj0UD0/dR42YnRQDvfT41nq9FAHVpkO//G0UDRItv5Ht3RQDEIrBwC79FAokW2843+0UB3vp8aJw3SQAIrhxYpG9JARIts5yMo0kBeukkMujPSQDEIrBxKPdJACKwcWmRE0kAfhetRKEnSQH0/NV7iS9JAiUFg5YhM0kCYbhKDEEvSQGIQWDmMR9JAVg4tst1B0kDD9ShcVzrSQG3n+6kJMtJAexSuR1kq0kCmm8QgQCTSQFYOLbI9INJAXI/C9Qge0kC0yHa+1xzSQAAAAAB4G9JACKwcWgwZ0kAtsp3vTxXSQPT91HiRENJAAAAAADAL0kDLoUW2wwXSQDMzMzOzANJA4XoUrg/80UCcxCCwmvfRQPp+arwU89FAI9v5fiLu0UCYbhKDeOjRQHe+nxoH4tFAsHJokc3a0UCwcmiRpdLRQB1aZDtnydFAdZMYBPa+0UDn+6nxQrPRQOXQIttRptFAPQrXoziY0UC0yHa+F4nRQN0kBoENedFAEoPAyiFo0UAZBFYOXVbRQPyp8dLdQ9FAL90kBskw0UBU46WbPB3RQNejcD1KCdFAfT81Xvr00EB9PzVeWuDQQP7UeOl2y9BApHA9Cle20EBkO99PBaHQQEoMAiuHi9BAZmZmZt510EB56SYxCGDQQBSuR+ECStBAK4cW2c4z0ECPwvUobB3QQM/3U+PVBtBA7nw/NQ7gz0BeukkM8rHPQOf7qfFSg89AukkMAitUz0ASg8DKYSTPQOOlm8Tg885AEoPAypHCzkCTGARWbpDOQHnpJjF4Xc5APzVeuqkpzkDHSzeJAfXNQG3n+6mBv81AexSuRzGJzUAtsp3vF1LNQKjGSzc5Gs1ApHA9CpfhzECPwvUoPKjMQKRwPQo3bsxABFYOLaIzzECPwvUorPjLQKRwPQqHvctAdZMYBGaCy0CgGi/dZEfLQB1aZDufDMtAbef7qUHSykD0/dR4eZjKQKabxCBwX8pAuB6F60EnykDZzvdTA/DJQKRwPQrXuclA4XoUrteEyUCwcmiRHVHJQIcW2c63HslAj8L1KKztyEArhxbZ/r3IQBKDwMqxj8hAw/UoXL9iyEDwp8ZLJzfIQLgehevhDMhAx0s3idHjx0DHSzeJ0bvHQHE9CtfDlMdAaJHtfI9ux0Coxks3KUnHQEJg5dCCJMdArkfhepQAx0Db+X5qTN3GQEoMAiuXusZADAIrh1aYxkDJdr6fanbGQFg5tMimVMZAJzEIrNwyxkA=\",\"dtype\":\"float64\",\"order\":\"little\",\"shape\":[151]}},\"selected\":{\"id\":\"3270\"},\"selection_policy\":{\"id\":\"3269\"}},\"id\":\"3253\",\"type\":\"ColumnDataSource\"},{\"attributes\":{\"label\":{\"value\":\"Men\"},\"renderers\":[{\"id\":\"3257\"}]},\"id\":\"3272\",\"type\":\"LegendItem\"},{\"attributes\":{},\"id\":\"3210\",\"type\":\"LinearScale\"},{\"attributes\":{\"axis_label\":\"Population\",\"coordinates\":null,\"formatter\":{\"id\":\"3243\"},\"group\":null,\"major_label_policy\":{\"id\":\"3244\"},\"ticker\":{\"id\":\"3217\"}},\"id\":\"3216\",\"type\":\"LinearAxis\"},{\"attributes\":{\"coordinates\":null,\"group\":null},\"id\":\"3240\",\"type\":\"Title\"},{\"attributes\":{},\"id\":\"3208\",\"type\":\"LinearScale\"},{\"attributes\":{\"axis\":{\"id\":\"3212\"},\"coordinates\":null,\"group\":null,\"ticker\":null},\"id\":\"3215\",\"type\":\"Grid\"},{\"attributes\":{},\"id\":\"3270\",\"type\":\"Selection\"},{\"attributes\":{},\"id\":\"3243\",\"type\":\"BasicTickFormatter\"},{\"attributes\":{\"fill_alpha\":{\"value\":0.1},\"fill_color\":{\"value\":\"red\"},\"hatch_alpha\":{\"value\":0.1},\"hatch_color\":{\"value\":\"red\"},\"line_alpha\":{\"value\":0.1},\"line_color\":{\"value\":\"red\"},\"x\":{\"field\":\"x\"},\"y\":{\"field\":\"y\"}},\"id\":\"3236\",\"type\":\"Circle\"},{\"attributes\":{\"label\":{\"value\":\"Women\"},\"renderers\":[{\"id\":\"3238\"}]},\"id\":\"3252\",\"type\":\"LegendItem\"},{\"attributes\":{\"coordinates\":null,\"group\":null,\"items\":[{\"id\":\"3252\"},{\"id\":\"3272\"}]},\"id\":\"3251\",\"type\":\"Legend\"},{\"attributes\":{},\"id\":\"3244\",\"type\":\"AllLabels\"},{\"attributes\":{\"tools\":[{\"id\":\"3220\"},{\"id\":\"3221\"},{\"id\":\"3222\"},{\"id\":\"3223\"},{\"id\":\"3224\"},{\"id\":\"3225\"}]},\"id\":\"3227\",\"type\":\"Toolbar\"},{\"attributes\":{},\"id\":\"3247\",\"type\":\"AllLabels\"},{\"attributes\":{},\"id\":\"3213\",\"type\":\"BasicTicker\"},{\"attributes\":{\"source\":{\"id\":\"3234\"}},\"id\":\"3239\",\"type\":\"CDSView\"},{\"attributes\":{\"fill_alpha\":{\"value\":0.2},\"fill_color\":{\"value\":\"red\"},\"hatch_alpha\":{\"value\":0.2},\"hatch_color\":{\"value\":\"red\"},\"line_alpha\":{\"value\":0.2},\"line_color\":{\"value\":\"red\"},\"x\":{\"field\":\"x\"},\"y\":{\"field\":\"y\"}},\"id\":\"3237\",\"type\":\"Circle\"},{\"attributes\":{\"fill_alpha\":{\"value\":0.1},\"fill_color\":{\"value\":\"#1f77b4\"},\"hatch_alpha\":{\"value\":0.1},\"line_alpha\":{\"value\":0.1},\"line_color\":{\"value\":\"#1f77b4\"},\"x\":{\"field\":\"x\"},\"y\":{\"field\":\"y\"}},\"id\":\"3255\",\"type\":\"Circle\"},{\"attributes\":{},\"id\":\"3246\",\"type\":\"BasicTickFormatter\"},{\"attributes\":{\"coordinates\":null,\"data_source\":{\"id\":\"3234\"},\"glyph\":{\"id\":\"3235\"},\"group\":null,\"hover_glyph\":null,\"muted_glyph\":{\"id\":\"3237\"},\"nonselection_glyph\":{\"id\":\"3236\"},\"view\":{\"id\":\"3239\"}},\"id\":\"3238\",\"type\":\"GlyphRenderer\"},{\"attributes\":{},\"id\":\"3249\",\"type\":\"Selection\"},{\"attributes\":{},\"id\":\"3248\",\"type\":\"UnionRenderers\"},{\"attributes\":{\"bottom_units\":\"screen\",\"coordinates\":null,\"fill_alpha\":0.5,\"fill_color\":\"lightgrey\",\"group\":null,\"left_units\":\"screen\",\"level\":\"overlay\",\"line_alpha\":1.0,\"line_color\":\"black\",\"line_dash\":[4,4],\"line_width\":2,\"right_units\":\"screen\",\"syncable\":false,\"top_units\":\"screen\"},\"id\":\"3226\",\"type\":\"BoxAnnotation\"},{\"attributes\":{\"source\":{\"id\":\"3253\"}},\"id\":\"3258\",\"type\":\"CDSView\"},{\"attributes\":{},\"id\":\"3206\",\"type\":\"DataRange1d\"}],\"root_ids\":[\"3203\"]},\"title\":\"Bokeh Application\",\"version\":\"2.4.2\"}};\n  const render_items = [{\"docid\":\"a914f315-be8d-4104-8d4b-dbfb49213d0a\",\"root_ids\":[\"3203\"],\"roots\":{\"3203\":\"0423d256-490e-4107-adcc-0d0dca7c9040\"}}];\n  root.Bokeh.embed.embed_items_notebook(docs_json, render_items);\n\n  }\n  if (root.Bokeh !== undefined) {\n    embed_document(root);\n  } else {\n    let attempts = 0;\n    const timer = setInterval(function(root) {\n      if (root.Bokeh !== undefined) {\n        clearInterval(timer);\n        embed_document(root);\n      } else {\n        attempts++;\n        if (attempts > 100) {\n          clearInterval(timer);\n          console.log(\"Bokeh: ERROR: Unable to run BokehJS code because BokehJS library is missing\");\n        }\n      }\n    }, 10, root)\n  }\n})(window);",
      "application/vnd.bokehjs_exec.v0+json": ""
     },
     "metadata": {
      "application/vnd.bokehjs_exec.v0+json": {
       "id": "3203"
      }
     },
     "output_type": "display_data"
    }
   ],
   "source": [
    "# One location\n",
    "\n",
    "tp_loco = tp.loc[tp['Location'] == 'Poland']\n",
    "\n",
    "loco_w = tp_loco['PopFemale'].to_numpy()\n",
    "loco_m = tp_loco['PopMale'].to_numpy()\n",
    "\n",
    "loco = figure(x_axis_label = 'Year', y_axis_label = 'Population')\n",
    "loco.circle(x_range, loco_w, color = 'red', legend_label = \"Women\")\n",
    "loco.circle(x_range, loco_m, legend_label = \"Men\")\n",
    "\n",
    "show(loco)"
   ]
  }
 ],
 "metadata": {
  "interpreter": {
   "hash": "4b3b657a68f4448768a8125a923fe24ff59c75963ce52d2210068e8ce29c0900"
  },
  "kernelspec": {
   "display_name": "Python 3.8.2 32-bit ('venv': venv)",
   "language": "python",
   "name": "python3"
  },
  "language_info": {
   "codemirror_mode": {
    "name": "ipython",
    "version": 3
   },
   "file_extension": ".py",
   "mimetype": "text/x-python",
   "name": "python",
   "nbconvert_exporter": "python",
   "pygments_lexer": "ipython3",
   "version": "3.8.2"
  },
  "orig_nbformat": 4
 },
 "nbformat": 4,
 "nbformat_minor": 2
}
